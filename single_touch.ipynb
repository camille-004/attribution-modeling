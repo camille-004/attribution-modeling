{
 "cells": [
  {
   "cell_type": "markdown",
   "id": "4df5922d",
   "metadata": {},
   "source": [
    "# Single-Touch Attribution Models\n",
    "Single-touch attribution models assign 100% of carrier credit to **one marketing channel**, disregarding any number of channels visited by a user. This is a naïve approach and has a low level of complexity. These models should only be used when there are five or less touch points in a customer's journey, the preferred of which is the Last-Touch Attribution Model.\n",
    "## Import Dependencies and Load Data"
   ]
  },
  {
   "cell_type": "code",
   "execution_count": 24,
   "id": "a667c023",
   "metadata": {},
   "outputs": [],
   "source": [
    "import itertools\n",
    "from collections import Counter, defaultdict\n",
    "from itertools import permutations, combinations\n",
    "\n",
    "import matplotlib.pyplot as plt\n",
    "import numpy as np\n",
    "import pandas as pd\n",
    "import requests\n",
    "import seaborn as sns\n",
    "from gekko import GEKKO\n",
    "from pandas.plotting import scatter_matrix\n",
    "from pandas_profiling import ProfileReport\n",
    "from PIL import Image\n",
    "\n",
    "%matplotlib inline\n",
    "sns.set_palette('summer')"
   ]
  },
  {
   "cell_type": "code",
   "execution_count": 2,
   "id": "14669430",
   "metadata": {},
   "outputs": [
    {
     "data": {
      "text/html": [
       "<div>\n",
       "<style scoped>\n",
       "    .dataframe tbody tr th:only-of-type {\n",
       "        vertical-align: middle;\n",
       "    }\n",
       "\n",
       "    .dataframe tbody tr th {\n",
       "        vertical-align: top;\n",
       "    }\n",
       "\n",
       "    .dataframe thead th {\n",
       "        text-align: right;\n",
       "    }\n",
       "</style>\n",
       "<table border=\"1\" class=\"dataframe\">\n",
       "  <thead>\n",
       "    <tr style=\"text-align: right;\">\n",
       "      <th></th>\n",
       "      <th>cookie</th>\n",
       "      <th>time</th>\n",
       "      <th>interaction</th>\n",
       "      <th>conversion</th>\n",
       "      <th>conversion_value</th>\n",
       "      <th>channel</th>\n",
       "    </tr>\n",
       "  </thead>\n",
       "  <tbody>\n",
       "    <tr>\n",
       "      <th>0</th>\n",
       "      <td>00000FkCnDfDDf0iC97iC703B</td>\n",
       "      <td>2018-07-03T13:02:11Z</td>\n",
       "      <td>impression</td>\n",
       "      <td>0</td>\n",
       "      <td>0.0</td>\n",
       "      <td>Instagram</td>\n",
       "    </tr>\n",
       "    <tr>\n",
       "      <th>1</th>\n",
       "      <td>00000FkCnDfDDf0iC97iC703B</td>\n",
       "      <td>2018-07-17T19:15:07Z</td>\n",
       "      <td>impression</td>\n",
       "      <td>0</td>\n",
       "      <td>0.0</td>\n",
       "      <td>Online Display</td>\n",
       "    </tr>\n",
       "    <tr>\n",
       "      <th>2</th>\n",
       "      <td>00000FkCnDfDDf0iC97iC703B</td>\n",
       "      <td>2018-07-24T15:51:46Z</td>\n",
       "      <td>impression</td>\n",
       "      <td>0</td>\n",
       "      <td>0.0</td>\n",
       "      <td>Online Display</td>\n",
       "    </tr>\n",
       "    <tr>\n",
       "      <th>3</th>\n",
       "      <td>00000FkCnDfDDf0iC97iC703B</td>\n",
       "      <td>2018-07-29T07:44:51Z</td>\n",
       "      <td>impression</td>\n",
       "      <td>0</td>\n",
       "      <td>0.0</td>\n",
       "      <td>Online Display</td>\n",
       "    </tr>\n",
       "    <tr>\n",
       "      <th>4</th>\n",
       "      <td>0000nACkD9nFkBBDECD3ki00E</td>\n",
       "      <td>2018-07-03T09:44:57Z</td>\n",
       "      <td>impression</td>\n",
       "      <td>0</td>\n",
       "      <td>0.0</td>\n",
       "      <td>Paid Search</td>\n",
       "    </tr>\n",
       "  </tbody>\n",
       "</table>\n",
       "</div>"
      ],
      "text/plain": [
       "                      cookie                  time interaction  conversion  \\\n",
       "0  00000FkCnDfDDf0iC97iC703B  2018-07-03T13:02:11Z  impression           0   \n",
       "1  00000FkCnDfDDf0iC97iC703B  2018-07-17T19:15:07Z  impression           0   \n",
       "2  00000FkCnDfDDf0iC97iC703B  2018-07-24T15:51:46Z  impression           0   \n",
       "3  00000FkCnDfDDf0iC97iC703B  2018-07-29T07:44:51Z  impression           0   \n",
       "4  0000nACkD9nFkBBDECD3ki00E  2018-07-03T09:44:57Z  impression           0   \n",
       "\n",
       "   conversion_value         channel  \n",
       "0               0.0       Instagram  \n",
       "1               0.0  Online Display  \n",
       "2               0.0  Online Display  \n",
       "3               0.0  Online Display  \n",
       "4               0.0     Paid Search  "
      ]
     },
     "execution_count": 2,
     "metadata": {},
     "output_type": "execute_result"
    }
   ],
   "source": [
    "df = pd.read_csv('data/attribution_data.csv')\n",
    "df.head()"
   ]
  },
  {
   "cell_type": "markdown",
   "id": "ffec6e56",
   "metadata": {},
   "source": [
    "## Last-Touch Attribution Model\n",
    "Here, we assign 100% of the carrier credit to the last marketing touchpoint. \n",
    "> The argument behind this approach is that the last touch is all that matters because it resulted in the actual conversion, but in reality, it doesn't tell the whole story."
   ]
  },
  {
   "cell_type": "code",
   "execution_count": 15,
   "id": "c3a6ed7e",
   "metadata": {},
   "outputs": [
    {
     "data": {
      "text/html": [
       "<div>\n",
       "<style scoped>\n",
       "    .dataframe tbody tr th:only-of-type {\n",
       "        vertical-align: middle;\n",
       "    }\n",
       "\n",
       "    .dataframe tbody tr th {\n",
       "        vertical-align: top;\n",
       "    }\n",
       "\n",
       "    .dataframe thead th {\n",
       "        text-align: right;\n",
       "    }\n",
       "</style>\n",
       "<table border=\"1\" class=\"dataframe\">\n",
       "  <thead>\n",
       "    <tr style=\"text-align: right;\">\n",
       "      <th></th>\n",
       "      <th>Weight (%)</th>\n",
       "    </tr>\n",
       "  </thead>\n",
       "  <tbody>\n",
       "    <tr>\n",
       "      <th>Facebook</th>\n",
       "      <td>30.05</td>\n",
       "    </tr>\n",
       "    <tr>\n",
       "      <th>Paid Search</th>\n",
       "      <td>25.78</td>\n",
       "    </tr>\n",
       "    <tr>\n",
       "      <th>Online Video</th>\n",
       "      <td>19.32</td>\n",
       "    </tr>\n",
       "    <tr>\n",
       "      <th>Instagram</th>\n",
       "      <td>12.72</td>\n",
       "    </tr>\n",
       "    <tr>\n",
       "      <th>Online Display</th>\n",
       "      <td>12.13</td>\n",
       "    </tr>\n",
       "  </tbody>\n",
       "</table>\n",
       "</div>"
      ],
      "text/plain": [
       "                Weight (%)\n",
       "Facebook             30.05\n",
       "Paid Search          25.78\n",
       "Online Video         19.32\n",
       "Instagram            12.72\n",
       "Online Display       12.13"
      ]
     },
     "execution_count": 15,
     "metadata": {},
     "output_type": "execute_result"
    }
   ],
   "source": [
    "def last_touch_model(df, conv_col, channel_col):\n",
    "    \"\"\"\n",
    "    Get the weight of each channel out of all last clicks (clicks leading to a conversion)\n",
    "    \"\"\"\n",
    "    last_touch = df[df[conv_col] == 1]\n",
    "    res_last_touch = pd.DataFrame(\n",
    "        round(last_touch[channel_col].value_counts(normalize=True) * 100, 2),\n",
    "    )\n",
    "    res_last_touch.columns = ['Weight (%)']\n",
    "    return res_last_touch\n",
    "\n",
    "\n",
    "last_touch = last_touch_model(df, 'conversion', 'channel')\n",
    "last_touch"
   ]
  },
  {
   "cell_type": "code",
   "execution_count": 29,
   "id": "a85f46aa",
   "metadata": {},
   "outputs": [
    {
     "data": {
      "text/plain": [
       "Text(0.5, 1.0, 'Last Clicks Channel Weights')"
      ]
     },
     "execution_count": 29,
     "metadata": {},
     "output_type": "execute_result"
    },
    {
     "data": {
      "image/png": "[encoded data removed]",
      "text/plain": [
       "<Figure size 720x432 with 1 Axes>"
      ]
     },
     "metadata": {
      "needs_background": "light"
     },
     "output_type": "display_data"
    }
   ],
   "source": [
    "plt.subplots(figsize=(10, 6))\n",
    "sns.barplot(data=last_touch, x=last_touch.index, y='Weight (%)')\n",
    "plt.xlabel('Channel')\n",
    "plt.title('Last Clicks Channel Weights', fontsize=20)"
   ]
  },
  {
   "cell_type": "markdown",
   "id": "38b1d5eb",
   "metadata": {},
   "source": [
    "## First-Touch Attribution Model\n",
    "Here, a customer's first marketing interaction will receive 100% of the coversion credit. \n",
    "> If one is mainly focused on widening [the] top of [their] funnel, this is a useful model. It highlights the channels that first introuced a customer to [the] brand.\n",
    "\n",
    "The problem with this model is that it ignores all subsequent touches, and therefore provides no insight into down-funnel metrics."
   ]
  },
  {
   "cell_type": "code",
   "execution_count": 30,
   "id": "c8a10403",
   "metadata": {},
   "outputs": [
    {
     "data": {
      "text/html": [
       "<div>\n",
       "<style scoped>\n",
       "    .dataframe tbody tr th:only-of-type {\n",
       "        vertical-align: middle;\n",
       "    }\n",
       "\n",
       "    .dataframe tbody tr th {\n",
       "        vertical-align: top;\n",
       "    }\n",
       "\n",
       "    .dataframe thead th {\n",
       "        text-align: right;\n",
       "    }\n",
       "</style>\n",
       "<table border=\"1\" class=\"dataframe\">\n",
       "  <thead>\n",
       "    <tr style=\"text-align: right;\">\n",
       "      <th></th>\n",
       "      <th>Weight (%)</th>\n",
       "    </tr>\n",
       "  </thead>\n",
       "  <tbody>\n",
       "    <tr>\n",
       "      <th>Facebook</th>\n",
       "      <td>32.59</td>\n",
       "    </tr>\n",
       "    <tr>\n",
       "      <th>Online Video</th>\n",
       "      <td>25.20</td>\n",
       "    </tr>\n",
       "    <tr>\n",
       "      <th>Paid Search</th>\n",
       "      <td>18.47</td>\n",
       "    </tr>\n",
       "    <tr>\n",
       "      <th>Instagram</th>\n",
       "      <td>14.78</td>\n",
       "    </tr>\n",
       "    <tr>\n",
       "      <th>Online Display</th>\n",
       "      <td>8.95</td>\n",
       "    </tr>\n",
       "  </tbody>\n",
       "</table>\n",
       "</div>"
      ],
      "text/plain": [
       "                Weight (%)\n",
       "Facebook             32.59\n",
       "Online Video         25.20\n",
       "Paid Search          18.47\n",
       "Instagram            14.78\n",
       "Online Display        8.95"
      ]
     },
     "execution_count": 30,
     "metadata": {},
     "output_type": "execute_result"
    }
   ],
   "source": [
    "def first_touch_model(df, conv_col, channel_col, user_id):\n",
    "    \"\"\"\n",
    "    Get the weight of each channel out of all first clicks by users\n",
    "    \"\"\"\n",
    "    tmp = df[df[conv_col] == 1]\n",
    "    first_touch = pd.DataFrame(df.groupby(user_id).first(), index=df[user_id])\n",
    "    cookie_index = list(tmp[user_id])\n",
    "    mid_first_touch = first_touch.loc[cookie_index]\n",
    "    res_first_touch = pd.DataFrame(round(\n",
    "        mid_first_touch[channel_col].value_counts(normalize=True) * 100, 2))\n",
    "    res_first_touch.columns = ['Weight (%)']\n",
    "    return res_first_touch\n",
    "\n",
    "\n",
    "first_touch = first_touch_model(df, 'conversion', 'channel', 'cookie')\n",
    "first_touch"
   ]
  },
  {
   "cell_type": "code",
   "execution_count": 31,
   "id": "f5f806d3",
   "metadata": {},
   "outputs": [
    {
     "data": {
      "text/plain": [
       "Text(0.5, 1.0, 'First Clicks Channel Weights')"
      ]
     },
     "execution_count": 31,
     "metadata": {},
     "output_type": "execute_result"
    },
    {
     "data": {
      "image/png": "[encoded data removed]",
      "text/plain": [
       "<Figure size 720x432 with 1 Axes>"
      ]
     },
     "metadata": {
      "needs_background": "light"
     },
     "output_type": "display_data"
    }
   ],
   "source": [
    "plt.subplots(figsize=(10, 6))\n",
    "sns.barplot(data=first_touch, x=first_touch.index, y='Weight (%)')\n",
    "plt.xlabel('Channel')\n",
    "plt.title('First Clicks Channel Weights', fontsize=20)"
   ]
  },
  {
   "cell_type": "markdown",
   "id": "a1ad22b8",
   "metadata": {},
   "source": [
    "Facebook seems to be driving the most revenue for both models, but Online Video and Paid Search seem to have switched in weight amounts between last and first clicks.\n",
    "## Last Non-Direct Attribution Model\n",
    "This model ignores direct traffic, and it\n",
    "> assigns 100% of the credit to the last channel the user engaged with before making a conversion.\n",
    "\n",
    "This is best used if one wants to understand effectiveness of their final marketing activities without direct traffic getting in the way of their analysis. However, this is still ignoring the other campaigns and channels with which the customer interacted."
   ]
  },
  {
   "cell_type": "code",
   "execution_count": 32,
   "id": "593c4200",
   "metadata": {},
   "outputs": [
    {
     "data": {
      "text/html": [
       "<div>\n",
       "<style scoped>\n",
       "    .dataframe tbody tr th:only-of-type {\n",
       "        vertical-align: middle;\n",
       "    }\n",
       "\n",
       "    .dataframe tbody tr th {\n",
       "        vertical-align: top;\n",
       "    }\n",
       "\n",
       "    .dataframe thead th {\n",
       "        text-align: right;\n",
       "    }\n",
       "</style>\n",
       "<table border=\"1\" class=\"dataframe\">\n",
       "  <thead>\n",
       "    <tr style=\"text-align: right;\">\n",
       "      <th></th>\n",
       "      <th>Weight (%)</th>\n",
       "    </tr>\n",
       "  </thead>\n",
       "  <tbody>\n",
       "    <tr>\n",
       "      <th>Facebook</th>\n",
       "      <td>29.97</td>\n",
       "    </tr>\n",
       "    <tr>\n",
       "      <th>Paid Search</th>\n",
       "      <td>24.97</td>\n",
       "    </tr>\n",
       "    <tr>\n",
       "      <th>Online Video</th>\n",
       "      <td>20.47</td>\n",
       "    </tr>\n",
       "    <tr>\n",
       "      <th>Instagram</th>\n",
       "      <td>13.22</td>\n",
       "    </tr>\n",
       "    <tr>\n",
       "      <th>Online Display</th>\n",
       "      <td>11.37</td>\n",
       "    </tr>\n",
       "  </tbody>\n",
       "</table>\n",
       "</div>"
      ],
      "text/plain": [
       "                Weight (%)\n",
       "Facebook             29.97\n",
       "Paid Search          24.97\n",
       "Online Video         20.47\n",
       "Instagram            13.22\n",
       "Online Display       11.37"
      ]
     },
     "execution_count": 32,
     "metadata": {},
     "output_type": "execute_result"
    }
   ],
   "source": [
    "def last_non_direct_model(df, conv_col, channel_col, user_id):\n",
    "    \"\"\"\n",
    "    Get the weight of each channel out of all last non-direct interactions by users\n",
    "    \"\"\"\n",
    "    second_last = pd.DataFrame(df.groupby(user_id).tail(2))\n",
    "    tmp = second_last[second_last[conv_col] == 1]\n",
    "    last_non_direct = pd.DataFrame(second_last.groupby(user_id).first(), \n",
    "                                   index=second_last[user_id])\n",
    "    cookie_index = list(tmp[user_id])\n",
    "    mid_last_non_direct = last_non_direct.loc[cookie_index]\n",
    "    res_last_non_direct = pd.DataFrame(round(\n",
    "        mid_last_non_direct[channel_col].value_counts(normalize=True) * 100, 2))\n",
    "    res_last_non_direct.columns = ['Weight (%)']\n",
    "    return res_last_non_direct\n",
    "    \n",
    "\n",
    "last_non_direct = last_non_direct_model(df, 'conversion', 'channel', 'cookie')\n",
    "last_non_direct"
   ]
  },
  {
   "cell_type": "code",
   "execution_count": 33,
   "id": "8b7700b4",
   "metadata": {},
   "outputs": [
    {
     "data": {
      "text/plain": [
       "Text(0.5, 1.0, 'Last Non-Direct Interaction Channel Weights')"
      ]
     },
     "execution_count": 33,
     "metadata": {},
     "output_type": "execute_result"
    },
    {
     "data": {
      "image/png": "[encoded data removed]",
      "text/plain": [
       "<Figure size 720x432 with 1 Axes>"
      ]
     },
     "metadata": {
      "needs_background": "light"
     },
     "output_type": "display_data"
    }
   ],
   "source": [
    "plt.subplots(figsize=(10, 6))\n",
    "sns.barplot(data=last_non_direct, x=last_non_direct.index, y='Weight (%)')\n",
    "plt.xlabel('Channel')\n",
    "plt.title('Last Non-Direct Interaction Channel Weights', fontsize=20)"
   ]
  },
  {
   "cell_type": "markdown",
   "id": "cff10665",
   "metadata": {},
   "source": [
    "Facebook is still on top in terms of weight, but Paid Search went back to being the second-most contributing for non-direct attributions."
   ]
  },
  {
   "cell_type": "code",
   "execution_count": null,
   "id": "8e613d96",
   "metadata": {},
   "outputs": [],
   "source": []
  }
 ],
 "metadata": {
  "kernelspec": {
   "display_name": "Python 3.8.5 64-bit",
   "language": "python",
   "name": "python38564bit40f31465e77c45df95a515d1a253e522"
  },
  "language_info": {
   "codemirror_mode": {
    "name": "ipython",
    "version": 3
   },
   "file_extension": ".py",
   "mimetype": "text/x-python",
   "name": "python",
   "nbconvert_exporter": "python",
   "pygments_lexer": "ipython3",
   "version": "3.8.5"
  }
 },
 "nbformat": 4,
 "nbformat_minor": 5
}
