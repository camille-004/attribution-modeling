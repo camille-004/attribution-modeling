{
 "cells": [
  {
   "cell_type": "markdown",
   "id": "d9d74b4f",
   "metadata": {},
   "source": [
    "# Multi-Touch Attribution Models\n",
    "Multi-touch models assume that all touchpoints play some role in driving a conversion. We look at the most popular multi-touch attribution models which include Linear, Position decay, and U-shaped models. These models have become important for marketers, particularly those looking to measure the impact of digital campaigns, since they provide a more granular and person-level view than traditional aggregation methods. These models should be used when the number of channels for a campaign is 5 to 10, the most preferable of which are position-based, like the U-shaped Attribution Model.\n",
    "\n",
    "## Import Dependencies and Load Data"
   ]
  },
  {
   "cell_type": "code",
   "execution_count": 1,
   "id": "f49c43ae",
   "metadata": {},
   "outputs": [],
   "source": [
    "from collections import Counter\n",
    "\n",
    "import matplotlib.pyplot as plt\n",
    "import pandas as pd\n",
    "import seaborn as sns\n",
    "\n",
    "%matplotlib inline\n",
    "pd.options.mode.chained_assignment = None\n",
    "sns.set_palette('summer')"
   ]
  },
  {
   "cell_type": "code",
   "execution_count": 2,
   "id": "ce64689e",
   "metadata": {},
   "outputs": [
    {
     "data": {
      "text/html": [
       "<div>\n",
       "<style scoped>\n",
       "    .dataframe tbody tr th:only-of-type {\n",
       "        vertical-align: middle;\n",
       "    }\n",
       "\n",
       "    .dataframe tbody tr th {\n",
       "        vertical-align: top;\n",
       "    }\n",
       "\n",
       "    .dataframe thead th {\n",
       "        text-align: right;\n",
       "    }\n",
       "</style>\n",
       "<table border=\"1\" class=\"dataframe\">\n",
       "  <thead>\n",
       "    <tr style=\"text-align: right;\">\n",
       "      <th></th>\n",
       "      <th>cookie</th>\n",
       "      <th>time</th>\n",
       "      <th>interaction</th>\n",
       "      <th>conversion</th>\n",
       "      <th>conversion_value</th>\n",
       "      <th>channel</th>\n",
       "    </tr>\n",
       "  </thead>\n",
       "  <tbody>\n",
       "    <tr>\n",
       "      <th>0</th>\n",
       "      <td>00000FkCnDfDDf0iC97iC703B</td>\n",
       "      <td>2018-07-03T13:02:11Z</td>\n",
       "      <td>impression</td>\n",
       "      <td>0</td>\n",
       "      <td>0.0</td>\n",
       "      <td>Instagram</td>\n",
       "    </tr>\n",
       "    <tr>\n",
       "      <th>1</th>\n",
       "      <td>00000FkCnDfDDf0iC97iC703B</td>\n",
       "      <td>2018-07-17T19:15:07Z</td>\n",
       "      <td>impression</td>\n",
       "      <td>0</td>\n",
       "      <td>0.0</td>\n",
       "      <td>Online Display</td>\n",
       "    </tr>\n",
       "    <tr>\n",
       "      <th>2</th>\n",
       "      <td>00000FkCnDfDDf0iC97iC703B</td>\n",
       "      <td>2018-07-24T15:51:46Z</td>\n",
       "      <td>impression</td>\n",
       "      <td>0</td>\n",
       "      <td>0.0</td>\n",
       "      <td>Online Display</td>\n",
       "    </tr>\n",
       "    <tr>\n",
       "      <th>3</th>\n",
       "      <td>00000FkCnDfDDf0iC97iC703B</td>\n",
       "      <td>2018-07-29T07:44:51Z</td>\n",
       "      <td>impression</td>\n",
       "      <td>0</td>\n",
       "      <td>0.0</td>\n",
       "      <td>Online Display</td>\n",
       "    </tr>\n",
       "    <tr>\n",
       "      <th>4</th>\n",
       "      <td>0000nACkD9nFkBBDECD3ki00E</td>\n",
       "      <td>2018-07-03T09:44:57Z</td>\n",
       "      <td>impression</td>\n",
       "      <td>0</td>\n",
       "      <td>0.0</td>\n",
       "      <td>Paid Search</td>\n",
       "    </tr>\n",
       "  </tbody>\n",
       "</table>\n",
       "</div>"
      ],
      "text/plain": [
       "                      cookie                  time interaction  conversion  \\\n",
       "0  00000FkCnDfDDf0iC97iC703B  2018-07-03T13:02:11Z  impression           0   \n",
       "1  00000FkCnDfDDf0iC97iC703B  2018-07-17T19:15:07Z  impression           0   \n",
       "2  00000FkCnDfDDf0iC97iC703B  2018-07-24T15:51:46Z  impression           0   \n",
       "3  00000FkCnDfDDf0iC97iC703B  2018-07-29T07:44:51Z  impression           0   \n",
       "4  0000nACkD9nFkBBDECD3ki00E  2018-07-03T09:44:57Z  impression           0   \n",
       "\n",
       "   conversion_value         channel  \n",
       "0               0.0       Instagram  \n",
       "1               0.0  Online Display  \n",
       "2               0.0  Online Display  \n",
       "3               0.0  Online Display  \n",
       "4               0.0     Paid Search  "
      ]
     },
     "execution_count": 2,
     "metadata": {},
     "output_type": "execute_result"
    }
   ],
   "source": [
    "df = pd.read_csv('data/attribution_data.csv')\n",
    "df.head()"
   ]
  },
  {
   "cell_type": "markdown",
   "id": "ea65e53b",
   "metadata": {},
   "source": [
    "## Linear Attribution Model\n",
    "The Linear Attribution Model gives each touchpoint across the buyer journey the same amount of credit toward driving a sale; it values every touchpoint evenly. This model is easy to implement and is better than all the single-touch attribution models. The *disadvantage* here is that in reality, consumers aren't equally impacted by every kind of channel."
   ]
  },
  {
   "cell_type": "code",
   "execution_count": 3,
   "id": "27d190a6",
   "metadata": {},
   "outputs": [
    {
     "data": {
      "text/html": [
       "<div>\n",
       "<style scoped>\n",
       "    .dataframe tbody tr th:only-of-type {\n",
       "        vertical-align: middle;\n",
       "    }\n",
       "\n",
       "    .dataframe tbody tr th {\n",
       "        vertical-align: top;\n",
       "    }\n",
       "\n",
       "    .dataframe thead th {\n",
       "        text-align: right;\n",
       "    }\n",
       "</style>\n",
       "<table border=\"1\" class=\"dataframe\">\n",
       "  <thead>\n",
       "    <tr style=\"text-align: right;\">\n",
       "      <th></th>\n",
       "      <th>Weight (%)</th>\n",
       "    </tr>\n",
       "  </thead>\n",
       "  <tbody>\n",
       "    <tr>\n",
       "      <th>Paid Search</th>\n",
       "      <td>27.63</td>\n",
       "    </tr>\n",
       "    <tr>\n",
       "      <th>Online Display</th>\n",
       "      <td>26.43</td>\n",
       "    </tr>\n",
       "    <tr>\n",
       "      <th>Instagram</th>\n",
       "      <td>16.56</td>\n",
       "    </tr>\n",
       "    <tr>\n",
       "      <th>Facebook</th>\n",
       "      <td>16.28</td>\n",
       "    </tr>\n",
       "    <tr>\n",
       "      <th>Online Video</th>\n",
       "      <td>13.11</td>\n",
       "    </tr>\n",
       "  </tbody>\n",
       "</table>\n",
       "</div>"
      ],
      "text/plain": [
       "                Weight (%)\n",
       "Paid Search          27.63\n",
       "Online Display       26.43\n",
       "Instagram            16.56\n",
       "Facebook             16.28\n",
       "Online Video         13.11"
      ]
     },
     "execution_count": 3,
     "metadata": {},
     "output_type": "execute_result"
    }
   ],
   "source": [
    "def linear_model(df, conv_col, channel_col, user_id):\n",
    "    \"\"\"\n",
    "    Build a Linear Multi-Touch Attribution Model\n",
    "    \"\"\"\n",
    "    # Keep data of only those users who are getting converted\n",
    "    tmp = df[df[conv_col] == 1]\n",
    "    cookie_index = list(tmp[user_id])\n",
    "    df['new'] = df[user_id].isin(cookie_index)\n",
    "    y = df['new'].isin([True])\n",
    "    df_conv = df[y]\n",
    "    tmp = pd.DataFrame(df_conv.groupby(user_id).tail(1))\n",
    "    \n",
    "    # Get total amount of channels visited by user\n",
    "    x = Counter(df_conv[user_id])\n",
    "    tmp['user_click_count'] = x.values()\n",
    "    tmp.set_index(user_id, inplace=True)\n",
    "    df_conv['clicks'] = df_conv[user_id].map(x)\n",
    "    \n",
    "    # Assign weights\n",
    "    df_conv = df_conv.assign(clicks_per=lambda x: round(\n",
    "        100 / df_conv['clicks'], 2))\n",
    "    \n",
    "    # Get the mean weight of every channel\n",
    "    res_linear = df_conv.groupby(\n",
    "        channel_col, as_index=False)['clicks_per'].mean()\n",
    "    _sum = res_linear['clicks_per'].sum()\n",
    "    \n",
    "    # Get as a percentage\n",
    "    res_linear['Weight (%)'] = res_linear.apply(lambda x: round(\n",
    "        (x['clicks_per'] / _sum) * 100, 2), axis=1)\n",
    "    res_linear.drop(['clicks_per'], inplace=True, axis=1)\n",
    "    res_linear = res_linear.set_index(channel_col)\n",
    "    res_linear.index.name = None\n",
    "    return res_linear.sort_values(by='Weight (%)', ascending=False)\n",
    "\n",
    "linear = linear_model(df, 'conversion', 'channel', 'cookie')\n",
    "linear"
   ]
  },
  {
   "cell_type": "code",
   "execution_count": 4,
   "id": "9181432a",
   "metadata": {},
   "outputs": [],
   "source": [
    "linear.to_csv('results/linear.csv')"
   ]
  },
  {
   "cell_type": "code",
   "execution_count": 6,
   "id": "6136ae08",
   "metadata": {},
   "outputs": [
    {
     "data": {
      "image/png": "[encoded data removed]",
      "text/plain": [
       "<Figure size 720x432 with 1 Axes>"
      ]
     },
     "metadata": {
      "needs_background": "light"
     },
     "output_type": "display_data"
    }
   ],
   "source": [
    "plt.subplots(figsize=(10, 6))\n",
    "sns.barplot(data=linear, x=linear.index, y='Weight (%)')\n",
    "plt.xlabel('Channel')\n",
    "plt.title('Linear Model Channel Weights', fontsize=20)\n",
    "plt.savefig('plots/linear.png')"
   ]
  },
  {
   "cell_type": "markdown",
   "id": "e10a42d8",
   "metadata": {},
   "source": [
    "From the linear model, we see that the leaders are Paid Search and Online Display. These results were au contraire to our single-touch models, where Facebook dominated, which demonstrates that we can't just rely on one model, since our results are dynamic.\n",
    "## Position-Based (U-Shaped) Attribution Model\n",
    "This model splits the credit for a sale between the first interaction and the moment it converts.\n",
    "> 40% of the credit is given to each of these points, with the remaining 20% spread out between any other interactions that happened in the middle."
   ]
  },
  {
   "cell_type": "code",
   "execution_count": 7,
   "id": "a0f67781",
   "metadata": {},
   "outputs": [
    {
     "data": {
      "text/html": [
       "<div>\n",
       "<style scoped>\n",
       "    .dataframe tbody tr th:only-of-type {\n",
       "        vertical-align: middle;\n",
       "    }\n",
       "\n",
       "    .dataframe tbody tr th {\n",
       "        vertical-align: top;\n",
       "    }\n",
       "\n",
       "    .dataframe thead th {\n",
       "        text-align: right;\n",
       "    }\n",
       "</style>\n",
       "<table border=\"1\" class=\"dataframe\">\n",
       "  <thead>\n",
       "    <tr style=\"text-align: right;\">\n",
       "      <th></th>\n",
       "      <th>Weight (%)</th>\n",
       "    </tr>\n",
       "  </thead>\n",
       "  <tbody>\n",
       "    <tr>\n",
       "      <th>Paid Search</th>\n",
       "      <td>27.48</td>\n",
       "    </tr>\n",
       "    <tr>\n",
       "      <th>Online Display</th>\n",
       "      <td>26.61</td>\n",
       "    </tr>\n",
       "    <tr>\n",
       "      <th>Instagram</th>\n",
       "      <td>16.65</td>\n",
       "    </tr>\n",
       "    <tr>\n",
       "      <th>Facebook</th>\n",
       "      <td>16.28</td>\n",
       "    </tr>\n",
       "    <tr>\n",
       "      <th>Online Video</th>\n",
       "      <td>12.99</td>\n",
       "    </tr>\n",
       "  </tbody>\n",
       "</table>\n",
       "</div>"
      ],
      "text/plain": [
       "                Weight (%)\n",
       "Paid Search          27.48\n",
       "Online Display       26.61\n",
       "Instagram            16.65\n",
       "Facebook             16.28\n",
       "Online Video         12.99"
      ]
     },
     "execution_count": 7,
     "metadata": {},
     "output_type": "execute_result"
    }
   ],
   "source": [
    "def calc_attribution_u(click_pos, total_clicks):\n",
    "    \"\"\"\n",
    "    Helper function to calculate attributions\n",
    "    \"\"\"\n",
    "    default_att = 0.5  # If a user has visited only two channels\n",
    "    extreme_touch_att_1 = 0.4  # Assigning weight to first and last channels\n",
    "    intermed_att_1 = 0.2  # Total weight for remaining channels\n",
    "    \n",
    "    if total_clicks == 2:\n",
    "        return default_att\n",
    "    elif total_clicks == 1:\n",
    "        return 1\n",
    "    else:\n",
    "        if click_pos == total_clicks or click_pos == 1:\n",
    "            return extreme_touch_att_1\n",
    "        else:\n",
    "            return intermed_att_1 / (total_clicks - 2)\n",
    "        \n",
    "\n",
    "def U_shaped_model(df, conv_col, channel_col, user_id):\n",
    "    \"\"\"\n",
    "    Build a U-Shaped Multi-Touch Attribution Model\n",
    "    \"\"\"\n",
    "    temp = df[df[conv_col] == 1]\n",
    "    cookie_index = list(temp[user_id])\n",
    "    df['new'] = df[user_id].isin(cookie_index)\n",
    "    y = df['new'].isin([True])\n",
    "    df_conv = df[y]\n",
    "    \n",
    "    count = Counter(df_conv[user_id])\n",
    "    df_conv['clicks'] = df_conv[user_id].map(count)\n",
    "    df_conv['click_pos'] = df_conv.groupby(user_id).cumcount() + 1\n",
    "    df_U_shaped = df_conv\n",
    "    df_U_shaped['U_shape'] = df_conv.apply(lambda x: round(\n",
    "        calc_attribution_u(x['click_pos'], x['clicks']) * 100, 2), axis=1)\n",
    "    \n",
    "    # Get mean weight of every channel, don't return group names as index\n",
    "    res_U_shaped = df_U_shaped.groupby(\n",
    "        channel_col, as_index=False)['U_shape'].mean()\n",
    "    _sum = res_U_shaped['U_shape'].sum()\n",
    "    res_U_shaped['Weight (%)'] = res_U_shaped.apply(\n",
    "        lambda x: round((x['U_shape'] / _sum) * 100, 2), axis=1)\n",
    "    res_U_shaped.drop(['U_shape'], inplace=True, axis=1)\n",
    "    res_U_shaped = res_U_shaped.set_index(channel_col)\n",
    "    res_U_shaped.index.name = None\n",
    "    return res_U_shaped.sort_values(by='Weight (%)', ascending=False)\n",
    "\n",
    "U_shaped = U_shaped_model(df, 'conversion', 'channel', 'cookie')\n",
    "U_shaped"
   ]
  },
  {
   "cell_type": "code",
   "execution_count": 8,
   "id": "e222c119",
   "metadata": {},
   "outputs": [],
   "source": [
    "U_shaped.to_csv('results/U_shaped.csv')"
   ]
  },
  {
   "cell_type": "code",
   "execution_count": 9,
   "id": "0a918b00",
   "metadata": {},
   "outputs": [
    {
     "data": {
      "image/png": "[encoded data removed]",
      "text/plain": [
       "<Figure size 720x432 with 1 Axes>"
      ]
     },
     "metadata": {
      "needs_background": "light"
     },
     "output_type": "display_data"
    }
   ],
   "source": [
    "plt.subplots(figsize=(10, 6))\n",
    "sns.barplot(data=U_shaped, x=U_shaped.index, y='Weight (%)')\n",
    "plt.xlabel('Channel')\n",
    "plt.title('U-Shaped Model Channel Weights', fontsize=20)\n",
    "plt.savefig('plots/U_shaped.png')"
   ]
  },
  {
   "cell_type": "markdown",
   "id": "495fb8fd",
   "metadata": {},
   "source": [
    "Our U-Shaped Model results are nearly identical to those of our Linear Model.\n",
    "## Position Decay Multi-Touch Attribution Model\n",
    "This algorithm allocates points to all the channels used to conert, giving them credit in ascending order up to the last interaction. This modle assumes that a user's interest in a product grows with every interaction, and the last one is the most important as it determines whether a customer converts."
   ]
  },
  {
   "cell_type": "code",
   "execution_count": 10,
   "id": "38be42dd",
   "metadata": {},
   "outputs": [
    {
     "data": {
      "text/html": [
       "<div>\n",
       "<style scoped>\n",
       "    .dataframe tbody tr th:only-of-type {\n",
       "        vertical-align: middle;\n",
       "    }\n",
       "\n",
       "    .dataframe tbody tr th {\n",
       "        vertical-align: top;\n",
       "    }\n",
       "\n",
       "    .dataframe thead th {\n",
       "        text-align: right;\n",
       "    }\n",
       "</style>\n",
       "<table border=\"1\" class=\"dataframe\">\n",
       "  <thead>\n",
       "    <tr style=\"text-align: right;\">\n",
       "      <th></th>\n",
       "      <th>Weight (%)</th>\n",
       "    </tr>\n",
       "  </thead>\n",
       "  <tbody>\n",
       "    <tr>\n",
       "      <th>Paid Search</th>\n",
       "      <td>25.64</td>\n",
       "    </tr>\n",
       "    <tr>\n",
       "      <th>Online Display</th>\n",
       "      <td>25.44</td>\n",
       "    </tr>\n",
       "    <tr>\n",
       "      <th>Instagram</th>\n",
       "      <td>17.14</td>\n",
       "    </tr>\n",
       "    <tr>\n",
       "      <th>Facebook</th>\n",
       "      <td>17.10</td>\n",
       "    </tr>\n",
       "    <tr>\n",
       "      <th>Online Video</th>\n",
       "      <td>14.68</td>\n",
       "    </tr>\n",
       "  </tbody>\n",
       "</table>\n",
       "</div>"
      ],
      "text/plain": [
       "                Weight (%)\n",
       "Paid Search          25.64\n",
       "Online Display       25.44\n",
       "Instagram            17.14\n",
       "Facebook             17.10\n",
       "Online Video         14.68"
      ]
     },
     "execution_count": 10,
     "metadata": {},
     "output_type": "execute_result"
    }
   ],
   "source": [
    "def calc_attribution_decay(click_pos, total_clicks):\n",
    "    \"\"\"\n",
    "    Calculate attribution according to exponential decay of channel\n",
    "    \"\"\"\n",
    "    rel_pos = total_clicks - click_pos\n",
    "    attribution = pow(2, -rel_pos)  # Exponential decay\n",
    "    return attribution\n",
    "\n",
    "\n",
    "def pos_decay_model(df, conv_col, channel_col, user_id):\n",
    "    \"\"\"\n",
    "    Build a Position Decay Multi-Touch Attribution Model\n",
    "    \"\"\"\n",
    "    # Filter out non-converted users\n",
    "    tmp = df[df[conv_col] == 1]\n",
    "    cookie_index = list(tmp[user_id])\n",
    "    df['new'] = df[user_id].isin(cookie_index)\n",
    "    y = df['new'].isin([True])\n",
    "    df_conv = df[y]\n",
    "    \n",
    "    count = Counter(df_conv[user_id])\n",
    "    df_conv['clicks'] = df_conv[user_id].map(count)\n",
    "    df_conv = df_conv.assign(\n",
    "        clicks_per=lambda x: round(100 / df_conv['clicks'], 2))\n",
    "    df_conv['click_pos'] = df_conv.groupby(user_id).cumcount() + 1\n",
    "    df_conv['pos_decay'] = df_conv.apply(lambda x: round(\n",
    "        calc_attribution_decay(\n",
    "            x['click_pos'], x['clicks']) * 100, 2), axis=1)\n",
    "    df_pos_decay = df_conv\n",
    "    \n",
    "    # Get mean weight of every channel, don't return group names as index\n",
    "    res_pos_decay = df_pos_decay.groupby(\n",
    "        'channel', as_index=False)['pos_decay'].mean()\n",
    "    _sum = res_pos_decay['pos_decay'].sum()\n",
    "    res_pos_decay['Weight (%)'] = res_pos_decay.apply(\n",
    "        lambda x: round((x['pos_decay'] / _sum) * 100, 2), axis=1)\n",
    "    res_pos_decay.drop(['pos_decay'], axis=1, inplace=True)\n",
    "    res_pos_decay = res_pos_decay.set_index(channel_col)\n",
    "    res_pos_decay.index.name = None\n",
    "    return res_pos_decay.sort_values(by='Weight (%)', ascending=False)\n",
    "\n",
    "\n",
    "pos_decay = pos_decay_model(df, 'conversion', 'channel', 'cookie')\n",
    "pos_decay"
   ]
  },
  {
   "cell_type": "code",
   "execution_count": 11,
   "id": "9f0b5bfd",
   "metadata": {},
   "outputs": [],
   "source": [
    "pos_decay.to_csv('results/pos_decay.csv')"
   ]
  },
  {
   "cell_type": "code",
   "execution_count": 12,
   "id": "3aaa6699",
   "metadata": {},
   "outputs": [
    {
     "data": {
      "image/png": "[encoded data removed]",
      "text/plain": [
       "<Figure size 720x432 with 1 Axes>"
      ]
     },
     "metadata": {
      "needs_background": "light"
     },
     "output_type": "display_data"
    }
   ],
   "source": [
    "plt.subplots(figsize=(10, 6))\n",
    "sns.barplot(data=pos_decay, x=pos_decay.index, y='Weight (%)')\n",
    "plt.xlabel('Channel')\n",
    "plt.title('Position Decay Model Channel Weights', fontsize=20)\n",
    "plt.savefig('plots/pos_decay.png')"
   ]
  },
  {
   "cell_type": "markdown",
   "id": "c8ea6186",
   "metadata": {},
   "source": [
    "All of our multi-touch attribution models preached Paid Search and Online Display, unlike our single-touch models, which suggested that these channels don't perform as well. With these different results, we haven't yet reached our goals of optimizing our budget; which channels will drive the most revenue?"
   ]
  },
  {
   "cell_type": "code",
   "execution_count": null,
   "id": "63d2c7bf",
   "metadata": {},
   "outputs": [],
   "source": []
  }
 ],
 "metadata": {
  "kernelspec": {
   "display_name": "Python 3.8.5 64-bit",
   "language": "python",
   "name": "python38564bit40f31465e77c45df95a515d1a253e522"
  },
  "language_info": {
   "codemirror_mode": {
    "name": "ipython",
    "version": 3
   },
   "file_extension": ".py",
   "mimetype": "text/x-python",
   "name": "python",
   "nbconvert_exporter": "python",
   "pygments_lexer": "ipython3",
   "version": "3.8.5"
  }
 },
 "nbformat": 4,
 "nbformat_minor": 5
}