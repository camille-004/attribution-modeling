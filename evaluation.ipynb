{
 "cells": [
  {
   "cell_type": "markdown",
   "id": "ea62a8fa",
   "metadata": {},
   "source": [
    "# Attribution Model Results & Evaluation\n",
    "## Import Dependencies and Load Data"
   ]
  },
  {
   "cell_type": "code",
   "execution_count": 55,
   "id": "ee427f00",
   "metadata": {},
   "outputs": [],
   "source": [
    "import itertools\n",
    "from collections import Counter, defaultdict\n",
    "from itertools import permutations, combinations\n",
    "\n",
    "import matplotlib.pyplot as plt\n",
    "import numpy as np\n",
    "import pandas as pd\n",
    "import requests\n",
    "import seaborn as sns\n",
    "from gekko import GEKKO\n",
    "from pandas.plotting import scatter_matrix\n",
    "from pandas_profiling import ProfileReport\n",
    "from PIL import Image\n",
    "\n",
    "%matplotlib inline\n",
    "pd.options.mode.chained_assignment = None\n",
    "sns.set_palette('rocket_r')"
   ]
  },
  {
   "cell_type": "code",
   "execution_count": 56,
   "id": "98517f68",
   "metadata": {
    "scrolled": true
   },
   "outputs": [
    {
     "data": {
      "text/html": [
       "<div>\n",
       "<style scoped>\n",
       "    .dataframe tbody tr th:only-of-type {\n",
       "        vertical-align: middle;\n",
       "    }\n",
       "\n",
       "    .dataframe tbody tr th {\n",
       "        vertical-align: top;\n",
       "    }\n",
       "\n",
       "    .dataframe thead th {\n",
       "        text-align: right;\n",
       "    }\n",
       "</style>\n",
       "<table border=\"1\" class=\"dataframe\">\n",
       "  <thead>\n",
       "    <tr style=\"text-align: right;\">\n",
       "      <th></th>\n",
       "      <th>cookie</th>\n",
       "      <th>time</th>\n",
       "      <th>interaction</th>\n",
       "      <th>conversion</th>\n",
       "      <th>conversion_value</th>\n",
       "      <th>channel</th>\n",
       "    </tr>\n",
       "  </thead>\n",
       "  <tbody>\n",
       "    <tr>\n",
       "      <th>0</th>\n",
       "      <td>00000FkCnDfDDf0iC97iC703B</td>\n",
       "      <td>2018-07-03T13:02:11Z</td>\n",
       "      <td>impression</td>\n",
       "      <td>0</td>\n",
       "      <td>0.0</td>\n",
       "      <td>Instagram</td>\n",
       "    </tr>\n",
       "    <tr>\n",
       "      <th>1</th>\n",
       "      <td>00000FkCnDfDDf0iC97iC703B</td>\n",
       "      <td>2018-07-17T19:15:07Z</td>\n",
       "      <td>impression</td>\n",
       "      <td>0</td>\n",
       "      <td>0.0</td>\n",
       "      <td>Online Display</td>\n",
       "    </tr>\n",
       "    <tr>\n",
       "      <th>2</th>\n",
       "      <td>00000FkCnDfDDf0iC97iC703B</td>\n",
       "      <td>2018-07-24T15:51:46Z</td>\n",
       "      <td>impression</td>\n",
       "      <td>0</td>\n",
       "      <td>0.0</td>\n",
       "      <td>Online Display</td>\n",
       "    </tr>\n",
       "    <tr>\n",
       "      <th>3</th>\n",
       "      <td>00000FkCnDfDDf0iC97iC703B</td>\n",
       "      <td>2018-07-29T07:44:51Z</td>\n",
       "      <td>impression</td>\n",
       "      <td>0</td>\n",
       "      <td>0.0</td>\n",
       "      <td>Online Display</td>\n",
       "    </tr>\n",
       "    <tr>\n",
       "      <th>4</th>\n",
       "      <td>0000nACkD9nFkBBDECD3ki00E</td>\n",
       "      <td>2018-07-03T09:44:57Z</td>\n",
       "      <td>impression</td>\n",
       "      <td>0</td>\n",
       "      <td>0.0</td>\n",
       "      <td>Paid Search</td>\n",
       "    </tr>\n",
       "  </tbody>\n",
       "</table>\n",
       "</div>"
      ],
      "text/plain": [
       "                      cookie                  time interaction  conversion  \\\n",
       "0  00000FkCnDfDDf0iC97iC703B  2018-07-03T13:02:11Z  impression           0   \n",
       "1  00000FkCnDfDDf0iC97iC703B  2018-07-17T19:15:07Z  impression           0   \n",
       "2  00000FkCnDfDDf0iC97iC703B  2018-07-24T15:51:46Z  impression           0   \n",
       "3  00000FkCnDfDDf0iC97iC703B  2018-07-29T07:44:51Z  impression           0   \n",
       "4  0000nACkD9nFkBBDECD3ki00E  2018-07-03T09:44:57Z  impression           0   \n",
       "\n",
       "   conversion_value         channel  \n",
       "0               0.0       Instagram  \n",
       "1               0.0  Online Display  \n",
       "2               0.0  Online Display  \n",
       "3               0.0  Online Display  \n",
       "4               0.0     Paid Search  "
      ]
     },
     "execution_count": 56,
     "metadata": {},
     "output_type": "execute_result"
    }
   ],
   "source": [
    "df = pd.read_csv('data/attribution_data.csv')\n",
    "df.head()"
   ]
  },
  {
   "cell_type": "code",
   "execution_count": 57,
   "id": "a5fa5ac4",
   "metadata": {},
   "outputs": [],
   "source": [
    "U_shaped = pd.read_csv('results/U_shaped.csv').set_index('Unnamed: 0').sort_index()\n",
    "first_touch = pd.read_csv('results/first_touch.csv').set_index('Unnamed: 0').sort_index()\n",
    "last_non_direct = pd.read_csv('results/last_non_direct.csv').set_index('Unnamed: 0').sort_index()\n",
    "last_touch = pd.read_csv('results/last_touch.csv').set_index('Unnamed: 0').sort_index()\n",
    "linear = pd.read_csv('results/linear.csv').set_index('Unnamed: 0').sort_index()\n",
    "markov = pd.read_csv('results/markov.csv').set_index('Unnamed: 0').sort_index()\n",
    "pos_decay = pd.read_csv('results/pos_decay.csv').set_index('Unnamed: 0').sort_index()\n",
    "shapley = pd.read_csv('results/shapley.csv').set_index('Unnamed: 0').sort_index()"
   ]
  },
  {
   "cell_type": "markdown",
   "id": "0653df7a",
   "metadata": {},
   "source": [
    "## Results Table"
   ]
  },
  {
   "cell_type": "code",
   "execution_count": 58,
   "id": "3ef2a1f2",
   "metadata": {},
   "outputs": [
    {
     "data": {
      "text/html": [
       "<div>\n",
       "<style scoped>\n",
       "    .dataframe tbody tr th:only-of-type {\n",
       "        vertical-align: middle;\n",
       "    }\n",
       "\n",
       "    .dataframe tbody tr th {\n",
       "        vertical-align: top;\n",
       "    }\n",
       "\n",
       "    .dataframe thead th {\n",
       "        text-align: right;\n",
       "    }\n",
       "</style>\n",
       "<table border=\"1\" class=\"dataframe\">\n",
       "  <thead>\n",
       "    <tr style=\"text-align: right;\">\n",
       "      <th></th>\n",
       "      <th>First Touch</th>\n",
       "      <th>Last Touch</th>\n",
       "      <th>Last Non-Direct Touch</th>\n",
       "      <th>Linear</th>\n",
       "      <th>U-Shaped</th>\n",
       "      <th>Position Decay</th>\n",
       "      <th>Markov</th>\n",
       "      <th>Shapley</th>\n",
       "      <th>Mean</th>\n",
       "    </tr>\n",
       "    <tr>\n",
       "      <th>Unnamed: 0</th>\n",
       "      <th></th>\n",
       "      <th></th>\n",
       "      <th></th>\n",
       "      <th></th>\n",
       "      <th></th>\n",
       "      <th></th>\n",
       "      <th></th>\n",
       "      <th></th>\n",
       "      <th></th>\n",
       "    </tr>\n",
       "  </thead>\n",
       "  <tbody>\n",
       "    <tr>\n",
       "      <th>Facebook</th>\n",
       "      <td>32.59</td>\n",
       "      <td>30.05</td>\n",
       "      <td>29.97</td>\n",
       "      <td>16.28</td>\n",
       "      <td>16.28</td>\n",
       "      <td>17.10</td>\n",
       "      <td>28.55</td>\n",
       "      <td>27.29</td>\n",
       "      <td>24.76</td>\n",
       "    </tr>\n",
       "    <tr>\n",
       "      <th>Instagram</th>\n",
       "      <td>14.78</td>\n",
       "      <td>12.72</td>\n",
       "      <td>13.22</td>\n",
       "      <td>16.56</td>\n",
       "      <td>16.65</td>\n",
       "      <td>17.14</td>\n",
       "      <td>15.76</td>\n",
       "      <td>13.11</td>\n",
       "      <td>14.99</td>\n",
       "    </tr>\n",
       "    <tr>\n",
       "      <th>Online Display</th>\n",
       "      <td>8.95</td>\n",
       "      <td>12.13</td>\n",
       "      <td>11.37</td>\n",
       "      <td>26.43</td>\n",
       "      <td>26.61</td>\n",
       "      <td>25.44</td>\n",
       "      <td>12.85</td>\n",
       "      <td>14.26</td>\n",
       "      <td>17.26</td>\n",
       "    </tr>\n",
       "    <tr>\n",
       "      <th>Online Video</th>\n",
       "      <td>25.20</td>\n",
       "      <td>19.32</td>\n",
       "      <td>20.47</td>\n",
       "      <td>13.11</td>\n",
       "      <td>12.99</td>\n",
       "      <td>14.68</td>\n",
       "      <td>15.38</td>\n",
       "      <td>14.27</td>\n",
       "      <td>16.93</td>\n",
       "    </tr>\n",
       "    <tr>\n",
       "      <th>Paid Search</th>\n",
       "      <td>18.47</td>\n",
       "      <td>25.78</td>\n",
       "      <td>24.97</td>\n",
       "      <td>27.63</td>\n",
       "      <td>27.48</td>\n",
       "      <td>25.64</td>\n",
       "      <td>27.46</td>\n",
       "      <td>31.06</td>\n",
       "      <td>26.06</td>\n",
       "    </tr>\n",
       "  </tbody>\n",
       "</table>\n",
       "</div>"
      ],
      "text/plain": [
       "                First Touch  Last Touch  Last Non-Direct Touch  Linear  \\\n",
       "Unnamed: 0                                                               \n",
       "Facebook              32.59       30.05                  29.97   16.28   \n",
       "Instagram             14.78       12.72                  13.22   16.56   \n",
       "Online Display         8.95       12.13                  11.37   26.43   \n",
       "Online Video          25.20       19.32                  20.47   13.11   \n",
       "Paid Search           18.47       25.78                  24.97   27.63   \n",
       "\n",
       "                U-Shaped  Position Decay  Markov  Shapley   Mean  \n",
       "Unnamed: 0                                                        \n",
       "Facebook           16.28           17.10   28.55    27.29  24.76  \n",
       "Instagram          16.65           17.14   15.76    13.11  14.99  \n",
       "Online Display     26.61           25.44   12.85    14.26  17.26  \n",
       "Online Video       12.99           14.68   15.38    14.27  16.93  \n",
       "Paid Search        27.48           25.64   27.46    31.06  26.06  "
      ]
     },
     "execution_count": 58,
     "metadata": {},
     "output_type": "execute_result"
    }
   ],
   "source": [
    "combined = pd.concat([\n",
    "    first_touch, last_touch, last_non_direct,\n",
    "    linear, U_shaped, pos_decay, markov, shapley\n",
    "], 1)\n",
    "combined.columns = [\n",
    "    'First Touch', 'Last Touch', 'Last Non-Direct Touch', 'Linear', \n",
    "    'U-Shaped', 'Position Decay', 'Markov', 'Shapley'\n",
    "]\n",
    "\n",
    "combined['Mean'] = round(combined.mean(axis=1), 2)\n",
    "combined"
   ]
  },
  {
   "cell_type": "markdown",
   "id": "e7a7bf22",
   "metadata": {},
   "source": [
    "Facebook and Paid Search seem to dominate in most with most of the models. Online Display has been almost entirely consistent in getting the lowest conversion credit. We'll take the mean across all models to get rid of biases. Even though our results are similar across the board, we should aggregate our results because we might want to invest \\$1 million dollars into one marketing channel. For now, well use our means as the final weighting. We could experience with different weightings and aggregations by means of A/B-testing over several months.\n",
    "\n",
    "Some other aggregate measures we can try are the median or quantile-based measures."
   ]
  },
  {
   "cell_type": "markdown",
   "id": "3314a392",
   "metadata": {},
   "source": [
    "## Visualization"
   ]
  },
  {
   "cell_type": "code",
   "execution_count": 59,
   "id": "f931a8f2",
   "metadata": {},
   "outputs": [
    {
     "data": {
      "image/png": "[encoded data removed]",
      "text/plain": [
       "<Figure size 720x432 with 1 Axes>"
      ]
     },
     "metadata": {
      "needs_background": "light"
     },
     "output_type": "display_data"
    },
    {
     "data": {
      "image/png": "[encoded data removed]",
      "text/plain": [
       "<Figure size 720x432 with 1 Axes>"
      ]
     },
     "metadata": {
      "needs_background": "light"
     },
     "output_type": "display_data"
    },
    {
     "data": {
      "image/png": "[encoded data removed]",
      "text/plain": [
       "<Figure size 720x432 with 1 Axes>"
      ]
     },
     "metadata": {
      "needs_background": "light"
     },
     "output_type": "display_data"
    }
   ],
   "source": [
    "plt.subplots(figsize=(10, 6))\n",
    "x = np.arange(len(first_touch.index))\n",
    "plt.bar(x - 0.2, last_touch['Weight (%)'], 0.2, label='Last Touch')\n",
    "plt.bar(x, first_touch['Weight (%)'], 0.2, label='First Touch')\n",
    "plt.bar(x + 0.2, last_non_direct['Weight (%)'], 0.2, label='Last Non-Direct Touch')\n",
    "plt.xticks(x, first_touch.index)\n",
    "plt.title('Single-Touch Attribution Model Weight Comparison', fontsize=18)\n",
    "plt.legend()\n",
    "plt.show()\n",
    "\n",
    "plt.subplots(figsize=(10, 6))\n",
    "plt.bar(x - 0.2, linear['Weight (%)'], 0.2, label='Linear')\n",
    "plt.bar(x, U_shaped['Weight (%)'], 0.2, label='U-Shaped')\n",
    "plt.bar(x + 0.2, pos_decay['Weight (%)'], 0.2, label='Position Decay')\n",
    "plt.xticks(x, first_touch.index)\n",
    "plt.title('Multi-Touch Attribution Model Weight Comparison', fontsize=18)\n",
    "plt.legend()\n",
    "plt.show()\n",
    "\n",
    "plt.subplots(figsize=(10, 6))\n",
    "plt.bar(x - 0.1, markov['Weight (%)'], 0.2, label='Markov')\n",
    "plt.bar(x + 0.1, shapley['Weight (%)'], 0.2, label='Shapley Value')\n",
    "plt.xticks(x, first_touch.index)\n",
    "plt.title('Probabilistic Attribution Model Weight Comparison', fontsize=18)\n",
    "plt.legend()\n",
    "plt.show()"
   ]
  },
  {
   "cell_type": "markdown",
   "id": "b9df949a",
   "metadata": {},
   "source": [
    "It's important to note that we shouldn't *just* invest in Paid Search and Fac"
   ]
  }
 ],
 "metadata": {
  "kernelspec": {
   "display_name": "Python 3.8.5 64-bit",
   "language": "python",
   "name": "python38564bit40f31465e77c45df95a515d1a253e522"
  },
  "language_info": {
   "codemirror_mode": {
    "name": "ipython",
    "version": 3
   },
   "file_extension": ".py",
   "mimetype": "text/x-python",
   "name": "python",
   "nbconvert_exporter": "python",
   "pygments_lexer": "ipython3",
   "version": "3.8.5"
  }
 },
 "nbformat": 4,
 "nbformat_minor": 5
}
